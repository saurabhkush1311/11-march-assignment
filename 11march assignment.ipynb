{
 "cells": [
  {
   "cell_type": "markdown",
   "id": "e1453530-2e1c-4b07-be8f-a7cf41906a3a",
   "metadata": {},
   "source": [
    "Q1: What is the difference between a t-test and a z-test? Provide an example scenario where you would\n",
    "use each type of test."
   ]
  },
  {
   "cell_type": "markdown",
   "id": "bbcd1810-814e-4b91-b2c5-863f4ac423b5",
   "metadata": {},
   "source": [
    "Answer:\n",
    "\n",
    "t-test:\n",
    "A t-test is used when the population standard deviation is unknown, and you are working with a small sample size (typically with a sample size less than 30). The t-test relies on the t-distribution, which takes into account the uncertainty introduced by using the sample standard deviation to estimate the population standard deviation.\n",
    "Example scenario for a t-test:\n",
    "Suppose you want to compare the average test scores of two groups of students, Group A and Group B. Each group contains 25 students, and you do not know the population standard deviation of test scores for either group. In this case, you would use a two-sample independent t-test to determine if there is a statistically significant difference in the mean test scores between Group A and Group B.\n",
    "\n",
    "z-test:\n",
    "A z-test is used when the population standard deviation is known, or the sample size is large (typically with a sample size greater than 30). The z-test relies on the standard normal distribution, which is a special case of the t-distribution when the sample size is sufficiently large.\n",
    "Example scenario for a z-test:\n",
    "Suppose you want to compare the average heights of two populations, Population X and Population Y. The height distribution for both populations is approximately normal, and you know the population standard deviation of heights for both populations. If the sample sizes are large (e.g., 100 or more), you can use a z-test to determine if there is a statistically significant difference in the mean heights between Population X and Population Y."
   ]
  },
  {
   "cell_type": "code",
   "execution_count": null,
   "id": "1458520c-3d7d-428a-ba5e-7801427a3fbe",
   "metadata": {},
   "outputs": [],
   "source": []
  },
  {
   "cell_type": "markdown",
   "id": "d4e31864-5537-4f90-b1fc-91bdcb1030f4",
   "metadata": {},
   "source": [
    "Q2: Differentiate between one-tailed and two-tailed tests."
   ]
  },
  {
   "cell_type": "markdown",
   "id": "653d7783-ea10-41db-9b0d-fd8e6e873845",
   "metadata": {},
   "source": [
    "Answer:\n",
    "    \n",
    "One-tailed tests are used when you have a specific directional expectation and want to test if the population parameter is significantly greater than or less than a certain value.\n",
    "Two-tailed tests are used when you do not have a specific directional expectation and want to test if the population parameter is significantly different from a certain value."
   ]
  },
  {
   "cell_type": "code",
   "execution_count": null,
   "id": "958b8f95-fa31-41f8-a9cf-6e2867d1533f",
   "metadata": {},
   "outputs": [],
   "source": []
  },
  {
   "cell_type": "markdown",
   "id": "7fa53cbb-2a54-48c2-b9b2-b5197836d4a7",
   "metadata": {},
   "source": [
    "Q3: Explain the concept of Type 1 and Type 2 errors in hypothesis testing. Provide an example scenario for\n",
    "each type of error."
   ]
  },
  {
   "cell_type": "markdown",
   "id": "81c97c43-261d-40db-8abf-4a2f1d519c51",
   "metadata": {},
   "source": [
    "Answer:\n",
    "    \n",
    "Type 1 and Type 2 errors are two types of errors that can occur in hypothesis testing when making a decision about the null hypothesis (H0) and alternative hypothesis (Ha). These errors are related to the incorrect acceptance or rejection of a hypothesis.\n",
    "\n",
    "Type 1 Error (False Positive):\n",
    "A Type 1 error occurs when we reject the null hypothesis when it is actually true. In other words, we conclude that there is a significant effect or difference when there is no such effect or difference in the population. The probability of committing a Type 1 error is denoted by the significance level (α), which is typically set before conducting the hypothesis test.\n",
    "Example scenario for a Type 1 error:\n",
    "Suppose a pharmaceutical company is testing a new drug, and the null hypothesis (H0) states that the drug has no effect on patient recovery time. The alternative hypothesis (Ha) states that the drug reduces recovery time. If the company conducts a study and incorrectly concludes that the drug reduces recovery time when it actually doesn't, it would be committing a Type 1 error.\n",
    "\n",
    "Type 2 Error (False Negative):\n",
    "A Type 2 error occurs when we fail to reject the null hypothesis when it is actually false. In other words, we conclude that there is no significant effect or difference when there is, in fact, a real effect or difference in the population. The probability of committing a Type 2 error is denoted by β.\n",
    "Example scenario for a Type 2 error:\n",
    "Continuing with the pharmaceutical company example, suppose the null hypothesis (H0) still states that the drug has no effect on patient recovery time, and the alternative hypothesis (Ha) still states that the drug reduces recovery time. If the company conducts a study but fails to detect a statistically significant reduction in recovery time (i.e., fails to reject the null hypothesis), when the drug actually does have a real effect, it would be committing a Type 2 error."
   ]
  },
  {
   "cell_type": "code",
   "execution_count": null,
   "id": "bb464215-2648-4837-9159-4c44c4bba30b",
   "metadata": {},
   "outputs": [],
   "source": []
  },
  {
   "cell_type": "markdown",
   "id": "277e6925-1171-45b7-8544-30f222be6d7e",
   "metadata": {},
   "source": [
    "Q4: Explain Bayes's theorem with an example."
   ]
  },
  {
   "cell_type": "markdown",
   "id": "d63138fd-f721-4706-a844-e0d08a1ee163",
   "metadata": {},
   "source": [
    "Answer:\n",
    "\n",
    "    Bayes's theorem is a fundamental concept in probability theory and statistics that allows us to update the probability of an event based on new evidence or information. It involves combining prior knowledge (prior probability) with new data to obtain a revised probability (posterior probability). The theorem is named after the Reverend Thomas Bayes, who first formulated it.\n",
    "\n",
    "The formula for Bayes's theorem is:\n",
    "\n",
    "P(A|B) = [P(B|A) * P(A)] / P(B)\n",
    "\n",
    "Where:\n",
    "\n",
    "P(A|B) is the posterior probability of event A given event B (the probability of A happening after we have observed B).\n",
    "P(B|A) is the conditional probability of event B given event A (the probability of B happening if A is true).\n",
    "P(A) is the prior probability of event A (the initial probability of A before observing any new evidence).\n",
    "P(B) is the prior probability of event B (the initial probability of B before observing any new evidence).\n",
    "Example:\n",
    "Let's say you are a doctor, and you have a patient who shows symptoms of a particular rare disease, which we'll call Disease X. The prevalence of Disease X in the general population is very low, about 1 in 10,000 people (P(A) = 0.0001). You have a diagnostic test for Disease X, but the test is not perfect. The test has a sensitivity of 95%, meaning that it correctly identifies 95% of the people with Disease X (P(B|A) = 0.95). However, the test also has a false-positive rate of 2%, meaning that it incorrectly identifies 2% of the healthy people as having Disease X (P(B|¬A) = 0.02).\n",
    "\n",
    "Now, you want to know the probability that your patient actually has Disease X given that the test came back positive (P(A|B)).\n",
    "\n",
    "Using Bayes's theorem:\n",
    "\n",
    "P(A|B) = [P(B|A) * P(A)] / P(B)\n",
    "\n",
    "P(A|B) = [0.95 * 0.0001] / P(B)\n",
    "\n",
    "To calculate P(B), we need to consider all the possible scenarios that lead to a positive test result:\n",
    "\n",
    "P(B) = P(B|A) * P(A) + P(B|¬A) * P(¬A)\n",
    "\n",
    "P(B) = 0.95 * 0.0001 + 0.02 * (1 - 0.0001)\n",
    "\n",
    "P(B) = 0.000095 + 0.01998 ≈ 0.02008\n",
    "\n",
    "Now, we can calculate P(A|B):\n",
    "\n",
    "P(A|B) ≈ [0.95 * 0.0001] / 0.02008\n",
    "\n",
    "P(A|B) ≈ 0.000095 / 0.02008\n",
    "\n",
    "P(A|B) ≈ 0.00473\n",
    "\n",
    "So, the probability that your patient actually has Disease X given that the test came back positive is approximately 0.00473 or 0.473%. Even though the test result is positive, the probability of having the disease is still relatively low due to the test's false-positive rate and the rarity of the disease in the general population.\n",
    "\n",
    "\n",
    "\n",
    "\n",
    "\n"
   ]
  },
  {
   "cell_type": "code",
   "execution_count": null,
   "id": "627267aa-e308-4203-a0d5-fb47e790028c",
   "metadata": {},
   "outputs": [],
   "source": []
  },
  {
   "cell_type": "markdown",
   "id": "429e094c-7e03-451c-b5c9-307106696897",
   "metadata": {},
   "source": [
    "Q5: What is a confidence interval? How to calculate the confidence interval, explain with an example."
   ]
  },
  {
   "cell_type": "markdown",
   "id": "f37c297e-5e25-4821-b31b-8ae329690d7d",
   "metadata": {},
   "source": [
    "Answer:\n",
    "\n",
    "A confidence interval is a statistical range that provides an estimate of the unknown population parameter (such as a population mean or proportion) based on sample data. It quantifies the uncertainty in the estimation and indicates the range within which the true population parameter is likely to lie with a certain level of confidence.\n",
    "\n",
    "For example, a 95% confidence interval for the population mean of a variable means that if we were to take many samples and calculate 95% confidence intervals for each sample, about 95% of these intervals would contain the true population mean.\n",
    "\n",
    "To calculate a confidence interval, you need the following information:\n",
    "\n",
    "Sample mean (x̄): The average value of the sample data.\n",
    "Sample standard deviation (s): A measure of how spread out the sample data is around the sample mean.\n",
    "Sample size (n): The number of observations in the sample.\n",
    "Confidence level (1 - α): The desired level of confidence, usually expressed as a percentage (e.g., 95% confidence level corresponds to α = 0.05).\n",
    "The formula for calculating the confidence interval for a population mean (when the population standard deviation is unknown) is given by:\n",
    "\n",
    "Confidence Interval = sample_mean ± (t_critical * standard_error)\n",
    "\n",
    "Where:\n",
    "\n",
    "t_critical: The critical value from the t-distribution corresponding to the desired confidence level and the degrees of freedom (df = n - 1).\n",
    "standard_error: The standard deviation of the sample mean, calculated as sample_standard_deviation / sqrt(n).\n",
    "Example:\n",
    "Suppose we want to estimate the average height of students in a college. We take a random sample of 50 students and measure their heights. The sample mean height is 165 cm, and the sample standard deviation is 8 cm.\n",
    "\n",
    "Compute the standard error:\n",
    "standard_error = 8 / sqrt(50) ≈ 1.13\n",
    "\n",
    "Find the critical value (t_critical) for a 95% confidence level with 49 degrees of freedom (df = n - 1 = 50 - 1 = 49) using a t-distribution table or calculator. For a 95% confidence level, the critical value is approximately 2.009.\n",
    "\n",
    "Calculate the confidence interval:\n",
    "Confidence Interval = 165 ± (2.009 * 1.13)\n",
    "\n",
    "Lower bound = 165 - 2.27 ≈ 162.73\n",
    "Upper bound = 165 + 2.27 ≈ 167.27\n",
    "\n",
    "The 95% confidence interval for the average height of students in the college is approximately 162.73 cm to 167.27 cm. This means we are 95% confident that the true average height of all students in the college falls within this range based on the sample data."
   ]
  },
  {
   "cell_type": "code",
   "execution_count": null,
   "id": "9af80294-bdd3-452a-8879-9b22ca622bca",
   "metadata": {},
   "outputs": [],
   "source": []
  },
  {
   "cell_type": "markdown",
   "id": "3610b12e-a56e-4f16-8d69-71dd579baa24",
   "metadata": {},
   "source": [
    "Q6. Use Bayes' Theorem to calculate the probability of an event occurring given prior knowledge of the\n",
    "event's probability and new evidence. Provide a sample problem and solution."
   ]
  },
  {
   "cell_type": "markdown",
   "id": "a5aa1d71-55c2-4c01-8e8f-d906db4d446b",
   "metadata": {},
   "source": [
    "Answer:\n",
    "\n",
    "ure, let's use Bayes' Theorem to calculate the probability of an event occurring given prior knowledge of the event's probability and new evidence.\n",
    "\n",
    "Sample Problem:\n",
    "Suppose you run a medical clinic, and you want to determine the probability that a patient has a specific rare disease, Disease X, based on a diagnostic test result. You know that the prevalence of Disease X in the general population is about 0.01 (1%) or P(Disease X) = 0.01. The diagnostic test for Disease X has a sensitivity of 0.95 (95%), meaning that it correctly identifies 95% of the patients who have the disease or P(Positive Test | Disease X) = 0.95. However, the test also has a false-positive rate of 0.05 (5%), meaning that it incorrectly identifies 5% of the healthy patients as having the disease or P(Positive Test | No Disease X) = 0.05.\n",
    "\n",
    "Now, a patient comes to your clinic, and the diagnostic test for Disease X comes back positive. You want to know the probability that the patient actually has Disease X given the positive test result, or P(Disease X | Positive Test).\n",
    "\n",
    "Solution:\n",
    "We can use Bayes' Theorem to calculate the probability of Disease X given the positive test result:\n",
    "\n",
    "P(Disease X | Positive Test) = [P(Positive Test | Disease X) * P(Disease X)] / P(Positive Test)\n",
    "\n",
    "To calculate P(Positive Test), we need to consider all the possible scenarios that lead to a positive test result:\n",
    "\n",
    "P(Positive Test) = P(Positive Test | Disease X) * P(Disease X) + P(Positive Test | No Disease X) * P(No Disease X)\n",
    "\n",
    "P(Positive Test) = 0.95 * 0.01 + 0.05 * (1 - 0.01)\n",
    "\n",
    "P(Positive Test) = 0.0095 + 0.0495\n",
    "\n",
    "P(Positive Test) = 0.059\n",
    "\n",
    "Now, we can calculate P(Disease X | Positive Test):\n",
    "\n",
    "P(Disease X | Positive Test) = [0.95 * 0.01] / 0.059\n",
    "\n",
    "P(Disease X | Positive Test) = 0.0095 / 0.059\n",
    "\n",
    "P(Disease X | Positive Test) ≈ 0.161\n",
    "\n",
    "So, the probability that the patient actually has Disease X given the positive test result is approximately 0.161 or 16.1%. Despite the positive test result, there is still a relatively low probability of having the disease due to the test's false-positive rate and the rarity of the disease in the general population."
   ]
  },
  {
   "cell_type": "code",
   "execution_count": null,
   "id": "b496514a-9a77-43c6-8818-48322e1f8e4c",
   "metadata": {},
   "outputs": [],
   "source": []
  },
  {
   "cell_type": "markdown",
   "id": "0eb67084-81d0-47dd-84d3-c595e7ad5fb9",
   "metadata": {},
   "source": [
    "Q7. Calculate the 95% confidence interval for a sample of data with a mean of 50 and a standard deviation\n",
    "of 5. Interpret the results."
   ]
  },
  {
   "cell_type": "markdown",
   "id": "1c914b5a-8ed9-4a0a-acb1-7879e5bb1f0c",
   "metadata": {},
   "source": [
    "Answer:\n",
    "    \n",
    "To calculate the 95% confidence interval for a sample with a mean of 50 and a standard deviation of 5, we need to use the formula for a confidence interval for the population mean (when the population standard deviation is unknown):\n",
    "\n",
    "Confidence Interval = sample_mean ± (t_critical * standard_error)\n",
    "\n",
    "Where:\n",
    "\n",
    "sample_mean = 50 (the sample mean)\n",
    "t_critical: The critical value from the t-distribution for a 95% confidence level and the degrees of freedom (df = n - 1, where n is the sample size).\n",
    "standard_error = sample_standard_deviation / sqrt(sample_size)\n",
    "sample_standard_deviation = 5 (the sample standard deviation)\n",
    "sample_size = (n) - You didn't provide the sample size, so let's assume a sample size of 100 for demonstration purposes.\n",
    "First, we need to find the critical value (t_critical) from the t-distribution table for a 95% confidence level and the appropriate degrees of freedom (df).\n",
    "\n",
    "Degrees of freedom (df) = sample_size - 1 = 100 - 1 = 99\n",
    "\n",
    "The critical value for a 95% confidence level and 99 degrees of freedom is approximately ±1.984.\n",
    "\n",
    "Now, we can calculate the standard error:\n",
    "\n",
    "standard_error = 5 / sqrt(100) = 5 / 10 = 0.5\n",
    "\n",
    "Next, we can calculate the confidence interval:\n",
    "\n",
    "Confidence Interval = 50 ± (1.984 * 0.5)\n",
    "\n",
    "Lower bound = 50 - 0.992 ≈ 49.008\n",
    "Upper bound = 50 + 0.992 ≈ 50.992\n",
    "\n",
    "The 95% confidence interval for the population mean based on this sample is approximately 49.008 to 50.992.\n",
    "\n",
    "Interpretation of the results:\n",
    "With 95% confidence, we can say that the true population mean lies within the range of 49.008 to 50.992. This means that if we were to take many samples from the same population and construct 95% confidence intervals for each sample, about 95% of these intervals would contain the true population mean of the data. The confidence interval provides a measure of the uncertainty in our estimate and helps us to understand the precision of the sample mean as an estimate of the population mean."
   ]
  },
  {
   "cell_type": "code",
   "execution_count": null,
   "id": "c150b385-02d6-4dbd-b4f2-a7170a530063",
   "metadata": {},
   "outputs": [],
   "source": []
  },
  {
   "cell_type": "markdown",
   "id": "e8460fb6-8be5-428f-b415-9149f12c5ab1",
   "metadata": {},
   "source": [
    "Q8. What is the margin of error in a confidence interval? How does sample size affect the margin of error?\n",
    "Provide an example of a scenario where a larger sample size would result in a smaller margin of error."
   ]
  },
  {
   "cell_type": "markdown",
   "id": "da6a648f-f787-4907-a3bf-f9b881374c2d",
   "metadata": {},
   "source": [
    "Answer:\n",
    "    \n",
    "The margin of error in a confidence interval is the range within which the true population parameter is expected to lie, given a certain level of confidence. It quantifies the uncertainty or variability in the estimate based on the sample data. A smaller margin of error indicates a more precise estimate, while a larger margin of error suggests more uncertainty in the estimate.\n",
    "\n",
    "The margin of error is calculated by multiplying the critical value from the corresponding distribution (e.g., t-distribution or z-distribution) with the standard error of the sample mean or proportion. The standard error takes into account the sample size and the variability of the sample data.\n",
    "\n",
    "The formula for the margin of error for a confidence interval for the population mean is:\n",
    "Margin of Error = critical_value * standard_error\n",
    "\n",
    "Where:\n",
    "\n",
    "critical_value: The critical value from the t-distribution or z-distribution, depending on the sample size and whether the population standard deviation is known or unknown.\n",
    "standard_error: The standard deviation of the sample mean, calculated as sample_standard_deviation / sqrt(sample_size) for a sample mean or as sqrt(p * (1-p) / n) for a sample proportion, where p is the sample proportion and n is the sample size.\n",
    "Sample size affects the margin of error in two ways:\n",
    "\n",
    "Inversely proportional relationship: The margin of error is inversely proportional to the square root of the sample size (n). As the sample size increases, the margin of error decreases, and as the sample size decreases, the margin of error increases. Larger sample sizes result in more precise estimates and narrower confidence intervals.\n",
    "\n",
    "Reduced variability: A larger sample size provides more data points and reduces the variability in the sample mean or proportion. With less variability, the standard error becomes smaller, leading to a smaller margin of error.\n",
    "\n",
    "Example scenario:\n",
    "Suppose a research study wants to estimate the average weight of a certain species of birds in a forest. They take two different sample sizes: one with 50 birds and another with 200 birds.\n",
    "\n",
    "Sample 1 (n = 50):\n",
    "\n",
    "Sample mean weight = 200 grams\n",
    "Sample standard deviation = 20 grams\n",
    "Sample 2 (n = 200):\n",
    "\n",
    "Sample mean weight = 198 grams\n",
    "Sample standard deviation = 15 grams\n",
    "Both samples provide estimates of the population mean weight, but the larger sample (Sample 2) has a smaller standard error due to its larger size. Consequently, the margin of error for Sample 2 will be smaller than the margin of error for Sample 1. This means that we can be more confident that the true population mean weight lies within a narrower range for Sample 2 compared to Sample 1.\n",
    "\n",
    "\n",
    "\n",
    "\n"
   ]
  },
  {
   "cell_type": "code",
   "execution_count": null,
   "id": "4396ac27-32e2-4372-bc1e-1c05b76db47a",
   "metadata": {},
   "outputs": [],
   "source": []
  },
  {
   "cell_type": "markdown",
   "id": "6125d514-21ae-45b1-a522-30a559d789a2",
   "metadata": {},
   "source": [
    "Q9. Calculate the z-score for a data point with a value of 75, a population mean of 70, and a population\n",
    "standard deviation of 5. Interpret the results."
   ]
  },
  {
   "cell_type": "markdown",
   "id": "8c5d82e2-c41c-4d9b-a87d-f0388c48077b",
   "metadata": {},
   "source": [
    "Answer:\n",
    "    \n",
    "\n",
    "To calculate the z-score for a data point, you can use the following formula:\n",
    "\n",
    "z = (X - μ) / σ\n",
    "\n",
    "Where:\n",
    "\n",
    "X is the value of the data point (in this case, X = 75)\n",
    "μ is the population mean (in this case, μ = 70)\n",
    "σ is the population standard deviation (in this case, σ = 5)\n",
    "Now, let's calculate the z-score:\n",
    "\n",
    "z = (75 - 70) / 5\n",
    "z = 5 / 5\n",
    "z = 1\n",
    "\n",
    "The z-score for the data point with a value of 75, a population mean of 70, and a population standard deviation of 5 is 1.\n",
    "\n",
    "Interpretation of the results:\n",
    "The z-score tells us how many standard deviations the data point (75) is away from the population mean (70). In this case, a z-score of 1 indicates that the data point is 1 standard deviation above the population mean.\n",
    "\n",
    "Since the z-score is positive, it means that the data point (75) is greater than the population mean (70). The positive z-score value of 1 indicates that the data point is 1 standard deviation above the population mean, which suggests that the value of 75 is relatively higher compared to the average value of the population."
   ]
  },
  {
   "cell_type": "code",
   "execution_count": null,
   "id": "f1f85eb7-c62b-437c-8a67-6409dc237c28",
   "metadata": {},
   "outputs": [],
   "source": []
  },
  {
   "cell_type": "markdown",
   "id": "87f7a29b-105e-4419-9e68-1f966790fa8d",
   "metadata": {},
   "source": [
    "Q10. In a study of the effectiveness of a new weight loss drug, a sample of 50 participants lost an average\n",
    "of 6 pounds with a standard deviation of 2.5 pounds. Conduct a hypothesis test to determine if the drug is\n",
    "significantly effective at a 95% confidence level using a t-test."
   ]
  },
  {
   "cell_type": "markdown",
   "id": "5c2cf174-4021-49d0-911d-2a5d2c25e711",
   "metadata": {},
   "source": [
    "Answer:\n",
    "    \n",
    "To conduct a hypothesis test to determine if the weight loss drug is significantly effective at a 95% confidence level using a t-test, we need to set up the null and alternative hypotheses and then perform the t-test.\n",
    "\n",
    "Null Hypothesis (H0): The weight loss drug is not significantly effective; the population mean weight loss is equal to or less than 0 pounds.\n",
    "Alternative Hypothesis (Ha): The weight loss drug is significantly effective; the population mean weight loss is greater than 0 pounds.\n",
    "\n",
    "We will use a one-sample t-test because we are comparing the sample mean to a known value (0 pounds) and the population standard deviation is unknown.\n",
    "\n",
    "The t-test statistic is calculated as follows:\n",
    "\n",
    "t = (sample_mean - hypothesized_mean) / (sample_standard_deviation / sqrt(sample_size))\n",
    "\n",
    "Where:\n",
    "\n",
    "sample_mean = 6 pounds (the average weight loss in the sample)\n",
    "hypothesized_mean = 0 pounds (the value we are testing against)\n",
    "sample_standard_deviation = 2.5 pounds (the standard deviation of the sample)\n",
    "sample_size = 50 (the sample size)\n",
    "Now, let's calculate the t-test statistic:\n",
    "\n",
    "t = (6 - 0) / (2.5 / sqrt(50))\n",
    "t = 6 / (2.5 / 7.071)\n",
    "t = 6 / 0.354\n",
    "t ≈ 16.949\n",
    "\n",
    "Next, we need to find the critical value for a one-tailed t-test with a 95% confidence level and 49 degrees of freedom (sample_size - 1 = 50 - 1 = 49). Using a t-distribution table or calculator, the critical value for a 95% confidence level and 49 degrees of freedom is approximately 1.677.\n",
    "\n",
    "Since the t-test statistic (16.949) is much greater than the critical value (1.677), we reject the null hypothesis.\n",
    "\n",
    "Conclusion:\n",
    "At a 95% confidence level, the weight loss drug is significantly effective, as evidenced by the sample of 50 participants, who lost an average of 6 pounds with a standard deviation of 2.5 pounds. The t-test indicated a strong difference between the sample mean and the hypothesized mean of 0 pounds, providing evidence to support the effectiveness of the weight loss drug."
   ]
  },
  {
   "cell_type": "code",
   "execution_count": null,
   "id": "1b7d69f6-8527-414a-b673-4181d7e9c670",
   "metadata": {},
   "outputs": [],
   "source": []
  },
  {
   "cell_type": "markdown",
   "id": "54eec3c6-d4d5-4f33-af08-c1199e310313",
   "metadata": {},
   "source": [
    "Q11. In a survey of 500 people, 65% reported being satisfied with their current job. Calculate the 95%\n",
    "confidence interval for the true proportion of people who are satisfied with their job."
   ]
  },
  {
   "cell_type": "markdown",
   "id": "24cb76e4-4b95-4eaf-9d2a-4f3e4877df6a",
   "metadata": {},
   "source": [
    "Answer:\n",
    "    \n",
    "\n",
    "To calculate the 95% confidence interval for the true proportion of people who are satisfied with their job, we can use the formula for the confidence interval for a population proportion:\n",
    "\n",
    "Confidence Interval = sample_proportion ± (z_critical * standard_error)\n",
    "\n",
    "Where:\n",
    "\n",
    "sample_proportion = 65% = 0.65 (the proportion of people satisfied with their job in the sample)\n",
    "z_critical: The critical value from the standard normal distribution for a 95% confidence level. For a 95% confidence level, the critical value is approximately ±1.96.\n",
    "standard_error = sqrt((sample_proportion * (1 - sample_proportion)) / sample_size)\n",
    "Now, let's calculate the standard error:\n",
    "\n",
    "standard_error = sqrt((0.65 * (1 - 0.65)) / 500)\n",
    "standard_error = sqrt((0.65 * 0.35) / 500)\n",
    "standard_error = sqrt(0.2275 / 500)\n",
    "standard_error = sqrt(0.000455)\n",
    "standard_error ≈ 0.0213\n",
    "\n",
    "Next, we can calculate the confidence interval:\n",
    "\n",
    "Confidence Interval = 0.65 ± (1.96 * 0.0213)\n",
    "\n",
    "Lower bound = 0.65 - 0.0417 ≈ 0.6083\n",
    "Upper bound = 0.65 + 0.0417 ≈ 0.6917\n",
    "\n",
    "The 95% confidence interval for the true proportion of people who are satisfied with their job is approximately 0.6083 to 0.6917.\n",
    "\n",
    "Interpretation of the results:\n",
    "With 95% confidence, we can say that the true proportion of people who are satisfied with their job lies within the range of approximately 60.83% to 69.17%, based on the sample of 500 people. The confidence interval provides a measure of the uncertainty in our estimate and helps us understand the precision of the sample proportion as an estimate of the population proportion."
   ]
  },
  {
   "cell_type": "code",
   "execution_count": null,
   "id": "64d9c77c-ef83-4ce7-a051-eebe3d50890d",
   "metadata": {},
   "outputs": [],
   "source": []
  },
  {
   "cell_type": "markdown",
   "id": "3342915f-296f-4b54-9f7f-2b31c6a86067",
   "metadata": {},
   "source": [
    "Q12. A researcher is testing the effectiveness of two different teaching methods on student performance.\n",
    "Sample A has a mean score of 85 with a standard deviation of 6, while sample B has a mean score of 82\n",
    "with a standard deviation of 5. Conduct a hypothesis test to determine if the two teaching methods have a\n",
    "significant difference in student performance using a t-test with a significance level of 0.01."
   ]
  },
  {
   "cell_type": "markdown",
   "id": "919c8e55-6da2-4741-a0ae-8d26a3e62bf4",
   "metadata": {},
   "source": [
    "Answer:\n",
    "    \n",
    "To conduct a hypothesis test to determine if the two teaching methods have a significant difference in student performance, we can use a two-sample independent t-test. The null and alternative hypotheses are as follows:\n",
    "\n",
    "Null Hypothesis (H0): There is no significant difference in student performance between the two teaching methods (μA - μB = 0).\n",
    "Alternative Hypothesis (Ha): There is a significant difference in student performance between the two teaching methods (μA - μB ≠ 0).\n",
    "\n",
    "We will use a significance level of 0.01, which corresponds to a two-tailed test.\n",
    "\n",
    "The formula for the two-sample t-test is as follows:\n",
    "\n",
    "t = (sample_mean_A - sample_mean_B) / sqrt((sample_variance_A / sample_size_A) + (sample_variance_B / sample_size_B))\n",
    "\n",
    "Where:\n",
    "\n",
    "sample_mean_A = 85 (the sample mean for Sample A)\n",
    "sample_mean_B = 82 (the sample mean for Sample B)\n",
    "sample_variance_A = 6^2 = 36 (the sample variance for Sample A)\n",
    "sample_variance_B = 5^2 = 25 (the sample variance for Sample B)\n",
    "sample_size_A = (nA) - You didn't provide the sample size for Sample A, so let's assume a sample size of 30 for demonstration purposes.\n",
    "sample_size_B = (nB) - You didn't provide the sample size for Sample B, so let's assume a sample size of 35 for demonstration purposes.\n",
    "Now, let's calculate the t-test statistic:\n",
    "\n",
    "t = (85 - 82) / sqrt((36/30) + (25/35))\n",
    "t = 3 / sqrt(1.2 + 0.714)\n",
    "t = 3 / sqrt(1.914)\n",
    "t ≈ 3 / 1.383\n",
    "t ≈ 2.170\n",
    "\n",
    "Next, we need to find the critical t-value for a significance level of 0.01 and degrees of freedom (df) equal to the smaller of (nA - 1) and (nB - 1).\n",
    "\n",
    "df = min(30 - 1, 35 - 1) = min(29, 34) = 29\n",
    "\n",
    "Using a t-distribution table or calculator, the critical t-value for a two-tailed test with a significance level of 0.01 and 29 degrees of freedom is approximately ±2.763.\n",
    "\n",
    "Since the absolute value of the t-test statistic (2.170) is less than the critical t-value (2.763), we fail to reject the null hypothesis.\n",
    "\n",
    "Conclusion:\n",
    "At a 0.01 significance level, there is not enough evidence to conclude that the two teaching methods have a significant difference in student performance. The t-test did not find a strong enough difference between the sample means to reject the null hypothesis."
   ]
  },
  {
   "cell_type": "code",
   "execution_count": null,
   "id": "06fc4686-f745-4d5c-b018-7befa3b4ffd5",
   "metadata": {},
   "outputs": [],
   "source": []
  },
  {
   "cell_type": "markdown",
   "id": "fc0184be-9c35-4519-98bb-38146b658e23",
   "metadata": {},
   "source": [
    "Q13. A population has a mean of 60 and a standard deviation of 8. A sample of 50 observations has a mean\n",
    "of 65. Calculate the 90% confidence interval for the true population mean."
   ]
  },
  {
   "cell_type": "markdown",
   "id": "68849193-f757-4fbb-829a-286f27c4120d",
   "metadata": {},
   "source": [
    "Answer:\n",
    "    \n",
    "To calculate the 90% confidence interval for the true population mean, we can use the formula for the confidence interval for a population mean when the population standard deviation is known:\n",
    "\n",
    "Confidence Interval = sample_mean ± (z_critical * (population_standard_deviation / sqrt(sample_size)))\n",
    "\n",
    "Where:\n",
    "\n",
    "sample_mean = 65 (the sample mean)\n",
    "z_critical: The critical value from the standard normal distribution for a 90% confidence level. For a 90% confidence level, the critical value is approximately ±1.645.\n",
    "population_standard_deviation = 8 (the population standard deviation)\n",
    "sample_size = 50 (the sample size)\n",
    "Now, let's calculate the confidence interval:\n",
    "\n",
    "Confidence Interval = 65 ± (1.645 * (8 / sqrt(50)))\n",
    "\n",
    "First, calculate the standard error:\n",
    "\n",
    "standard_error = population_standard_deviation / sqrt(sample_size)\n",
    "standard_error = 8 / sqrt(50) ≈ 8 / 7.071 ≈ 1.131\n",
    "\n",
    "Next, calculate the confidence interval:\n",
    "\n",
    "Confidence Interval = 65 ± (1.645 * 1.131)\n",
    "\n",
    "Lower bound = 65 - 1.861 ≈ 63.139\n",
    "Upper bound = 65 + 1.861 ≈ 66.861\n",
    "\n",
    "The 90% confidence interval for the true population mean is approximately 63.139 to 66.861.\n",
    "\n",
    "Interpretation of the results:\n",
    "With 90% confidence, we can say that the true population mean lies within the range of approximately 63.139 to 66.861, based on the sample of 50 observations with a sample mean of 65, a population mean of 60, and a population standard deviation of 8. The confidence interval provides a measure of the uncertainty in our estimate and helps us understand the precision of the sample mean as an estimate of the population mean."
   ]
  },
  {
   "cell_type": "code",
   "execution_count": null,
   "id": "407ba317-978c-4d81-89c1-1828adc8c081",
   "metadata": {},
   "outputs": [],
   "source": []
  },
  {
   "cell_type": "markdown",
   "id": "0f049c64-3388-44c3-8859-096e6ae988ce",
   "metadata": {},
   "source": [
    "Q14. In a study of the effects of caffeine on reaction time, a sample of 30 participants had an average\n",
    "reaction time of 0.25 seconds with a standard deviation of 0.05 seconds. Conduct a hypothesis test to\n",
    "determine if the caffeine has a significant effect on reaction time at a 90% confidence level using a t-test."
   ]
  },
  {
   "cell_type": "markdown",
   "id": "d033df3d-ae68-4401-9ca9-11ba7bab3e81",
   "metadata": {},
   "source": [
    "Answer:\n",
    "    \n",
    "To conduct a hypothesis test to determine if caffeine has a significant effect on reaction time, we can use a one-sample t-test. The null and alternative hypotheses are as follows:\n",
    "\n",
    "Null Hypothesis (H0): Caffeine does not have a significant effect on reaction time; the population mean reaction time is equal to or less than 0.25 seconds (μ = 0.25).\n",
    "Alternative Hypothesis (Ha): Caffeine has a significant effect on reaction time; the population mean reaction time is less than 0.25 seconds (μ < 0.25).\n",
    "\n",
    "We will use a significance level of 0.10 (90% confidence level) for the one-tailed test.\n",
    "\n",
    "The formula for the one-sample t-test is as follows:\n",
    "\n",
    "t = (sample_mean - hypothesized_mean) / (sample_standard_deviation / sqrt(sample_size))\n",
    "\n",
    "Where:\n",
    "\n",
    "sample_mean = 0.25 seconds (the average reaction time in the sample)\n",
    "hypothesized_mean = 0.25 seconds (the value we are testing against)\n",
    "sample_standard_deviation = 0.05 seconds (the standard deviation of the sample)\n",
    "sample_size = 30 (the sample size)\n",
    "Now, let's calculate the t-test statistic:\n",
    "\n",
    "t = (0.25 - 0.25) / (0.05 / sqrt(30))\n",
    "t = 0 / (0.05 / 5.477)\n",
    "t = 0 / 0.009126\n",
    "t = 0\n",
    "\n",
    "Next, we need to find the critical t-value for a one-tailed t-test with a significance level of 0.10 and degrees of freedom (df) equal to the sample size minus 1 (sample_size - 1).\n",
    "\n",
    "df = 30 - 1 = 29\n",
    "\n",
    "Using a t-distribution table or calculator, the critical t-value for a one-tailed test with a significance level of 0.10 and 29 degrees of freedom is approximately -1.316.\n",
    "\n",
    "Since the t-test statistic (0) is not less than the critical t-value (-1.316), we fail to reject the null hypothesis.\n",
    "\n",
    "Conclusion:\n",
    "At a 90% confidence level, there is not enough evidence to conclude that caffeine has a significant effect on reaction time. The t-test did not find a significant difference between the sample mean reaction time and the hypothesized mean of 0.25 seconds, indicating that caffeine did not have a significant effect on reaction time in this study."
   ]
  },
  {
   "cell_type": "code",
   "execution_count": null,
   "id": "1201be7c-108d-49c6-ae22-e01a7d6949bb",
   "metadata": {},
   "outputs": [],
   "source": []
  }
 ],
 "metadata": {
  "kernelspec": {
   "display_name": "Python 3 (ipykernel)",
   "language": "python",
   "name": "python3"
  },
  "language_info": {
   "codemirror_mode": {
    "name": "ipython",
    "version": 3
   },
   "file_extension": ".py",
   "mimetype": "text/x-python",
   "name": "python",
   "nbconvert_exporter": "python",
   "pygments_lexer": "ipython3",
   "version": "3.10.6"
  }
 },
 "nbformat": 4,
 "nbformat_minor": 5
}
